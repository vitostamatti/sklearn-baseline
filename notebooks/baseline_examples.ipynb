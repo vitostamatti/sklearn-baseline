{
 "cells": [
  {
   "cell_type": "code",
   "execution_count": null,
   "metadata": {},
   "outputs": [],
   "source": [
    "from sklearn.datasets import fetch_openml\n",
    "import pandas as pd\n",
    "\n",
    "from baseline import Baseline, BaselineConfig, get_clf_models, get_reg_models"
   ]
  },
  {
   "cell_type": "code",
   "execution_count": null,
   "metadata": {},
   "outputs": [],
   "source": [
    "adult = fetch_openml('adult',version=2)\n",
    "\n",
    "X, y = adult['data'], adult['target']"
   ]
  },
  {
   "cell_type": "code",
   "execution_count": null,
   "metadata": {},
   "outputs": [],
   "source": [
    "def label_encoder(y): \n",
    "    return y.apply(lambda x: 0 if x=='<=50K' else 1)\n",
    "\n",
    "y"
   ]
  },
  {
   "cell_type": "code",
   "execution_count": null,
   "metadata": {},
   "outputs": [],
   "source": [
    "classification_config = BaselineConfig(\n",
    "    models = get_clf_models(),\n",
    "    test_size=0.2,\n",
    "    random_state=123,\n",
    "    n_max_one_hot = 20,\n",
    "    label_encoder = label_encoder\n",
    "    \n",
    ")\n",
    "clf_baseline = Baseline(config=classification_config)"
   ]
  },
  {
   "cell_type": "code",
   "execution_count": null,
   "metadata": {},
   "outputs": [],
   "source": [
    "clf_baseline(X,y)"
   ]
  },
  {
   "cell_type": "code",
   "execution_count": null,
   "metadata": {},
   "outputs": [],
   "source": [
    "cholesterol = fetch_openml('cholesterol',version=1)\n",
    "\n",
    "X, y = cholesterol['data'], cholesterol['target']"
   ]
  },
  {
   "cell_type": "code",
   "execution_count": null,
   "metadata": {},
   "outputs": [],
   "source": [
    "regression_config = BaselineConfig(\n",
    "    models = get_reg_models(),\n",
    "    test_size=0.2,\n",
    "    random_state=123,\n",
    "    n_max_one_hot = 20,\n",
    "    label_encoder = label_encoder\n",
    "    \n",
    ")"
   ]
  }
 ],
 "metadata": {
  "language_info": {
   "name": "python"
  },
  "orig_nbformat": 4
 },
 "nbformat": 4,
 "nbformat_minor": 2
}
